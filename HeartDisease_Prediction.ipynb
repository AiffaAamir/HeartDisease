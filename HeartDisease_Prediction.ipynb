{
  "nbformat": 4,
  "nbformat_minor": 0,
  "metadata": {
    "colab": {
      "provenance": []
    },
    "kernelspec": {
      "name": "python3",
      "display_name": "Python 3"
    },
    "language_info": {
      "name": "python"
    }
  },
  "cells": [
    {
      "cell_type": "code",
      "execution_count": null,
      "metadata": {
        "id": "flE-jiLE32gb",
        "colab": {
          "base_uri": "https://localhost:8080/"
        },
        "outputId": "25473dd9-489c-410e-bd15-90ca84300a0e"
      },
      "outputs": [
        {
          "output_type": "stream",
          "name": "stdout",
          "text": [
            "    age     sex   cp  trestbps  chol  fbs  restecg  thalach  exang  oldpeak  \\\n",
            "0  52.0    Male  0.0       125   212    0        1      168      0      1.0   \n",
            "1   NaN    Male  0.0       140   203    1        0      155      1      3.1   \n",
            "2   NaN    Male  0.0       145   174    0        1      125      1      2.6   \n",
            "3  61.0    Male  0.0       148   203    0        1      161      0      0.0   \n",
            "4  62.0  Female  0.0       138   294    1        1      106      0      1.9   \n",
            "\n",
            "   slope  ca  thal  target  \n",
            "0      2   2     3       0  \n",
            "1      0   0     3       0  \n",
            "2      0   0     3       0  \n",
            "3      2   1     3       0  \n",
            "4      1   3     2       0  \n"
          ]
        }
      ],
      "source": [
        "# prompt: code to load data and show head\n",
        "\n",
        "import pandas as pd\n",
        "\n",
        "# Load the CSV file into a Pandas DataFrame\n",
        "df = pd.read_csv('heart_dataset.csv')\n",
        "\n",
        "# Display the first 5 rows of the DataFrame\n",
        "print(df.head())"
      ]
    },
    {
      "cell_type": "code",
      "source": [
        "# prompt: write a code of barchat to see how many volume each class have\n",
        "\n",
        "import matplotlib.pyplot as plt\n",
        "\n",
        "# Count the occurrences of each class\n",
        "class_counts = df['target'].value_counts()\n",
        "print(class_counts)\n",
        "\n",
        "# Create the bar chart\n",
        "plt.figure(figsize=(8, 6))\n",
        "class_counts.plot(kind='bar')\n",
        "plt.title('Volume per Class')\n",
        "plt.xlabel('Class')\n",
        "plt.ylabel('Volume')\n",
        "plt.xticks(rotation=0)  # Keep class names horizontal\n",
        "plt.grid(axis='y', linestyle='--')\n",
        "plt.show()"
      ],
      "metadata": {
        "colab": {
          "base_uri": "https://localhost:8080/",
          "height": 633
        },
        "id": "KYtvWg_Nsa-A",
        "outputId": "04a93ebb-8dd9-415f-c3ea-44e02c394edf"
      },
      "execution_count": null,
      "outputs": [
        {
          "output_type": "stream",
          "name": "stdout",
          "text": [
            "target\n",
            "0    484\n",
            "1    216\n",
            "Name: count, dtype: int64\n"
          ]
        },
        {
          "output_type": "display_data",
          "data": {
            "text/plain": [
              "<Figure size 800x600 with 1 Axes>"
            ],
            "image/png": "[encoded data removed]"
          },
          "metadata": {}
        }
      ]
    },
    {
      "cell_type": "code",
      "source": [
        "# prompt: write code to count missing values in each column\n",
        "\n",
        "# Count the number of missing values in each column\n",
        "missing_values_count = df.isnull().sum()\n",
        "\n",
        "# Print the count of missing values for each column\n",
        "print(\"\\nMissing values count per column:\")\n",
        "missing_values_count"
      ],
      "metadata": {
        "colab": {
          "base_uri": "https://localhost:8080/",
          "height": 558
        },
        "id": "6vrRW9_ooCmk",
        "outputId": "911325f0-e209-4000-9d0b-7fa3aadac7d8"
      },
      "execution_count": null,
      "outputs": [
        {
          "output_type": "stream",
          "name": "stdout",
          "text": [
            "\n",
            "Missing values count per column:\n"
          ]
        },
        {
          "output_type": "execute_result",
          "data": {
            "text/plain": [
              "age         74\n",
              "sex          0\n",
              "cp          66\n",
              "trestbps     0\n",
              "chol         0\n",
              "fbs          0\n",
              "restecg      0\n",
              "thalach      0\n",
              "exang        0\n",
              "oldpeak      0\n",
              "slope        0\n",
              "ca           0\n",
              "thal         0\n",
              "target       0\n",
              "dtype: int64"
            ],
            "text/html": [
              "<div>\n",
              "<style scoped>\n",
              "    .dataframe tbody tr th:only-of-type {\n",
              "        vertical-align: middle;\n",
              "    }\n",
              "\n",
              "    .dataframe tbody tr th {\n",
              "        vertical-align: top;\n",
              "    }\n",
              "\n",
              "    .dataframe thead th {\n",
              "        text-align: right;\n",
              "    }\n",
              "</style>\n",
              "<table border=\"1\" class=\"dataframe\">\n",
              "  <thead>\n",
              "    <tr style=\"text-align: right;\">\n",
              "      <th></th>\n",
              "      <th>0</th>\n",
              "    </tr>\n",
              "  </thead>\n",
              "  <tbody>\n",
              "    <tr>\n",
              "      <th>age</th>\n",
              "      <td>74</td>\n",
              "    </tr>\n",
              "    <tr>\n",
              "      <th>sex</th>\n",
              "      <td>0</td>\n",
              "    </tr>\n",
              "    <tr>\n",
              "      <th>cp</th>\n",
              "      <td>66</td>\n",
              "    </tr>\n",
              "    <tr>\n",
              "      <th>trestbps</th>\n",
              "      <td>0</td>\n",
              "    </tr>\n",
              "    <tr>\n",
              "      <th>chol</th>\n",
              "      <td>0</td>\n",
              "    </tr>\n",
              "    <tr>\n",
              "      <th>fbs</th>\n",
              "      <td>0</td>\n",
              "    </tr>\n",
              "    <tr>\n",
              "      <th>restecg</th>\n",
              "      <td>0</td>\n",
              "    </tr>\n",
              "    <tr>\n",
              "      <th>thalach</th>\n",
              "      <td>0</td>\n",
              "    </tr>\n",
              "    <tr>\n",
              "      <th>exang</th>\n",
              "      <td>0</td>\n",
              "    </tr>\n",
              "    <tr>\n",
              "      <th>oldpeak</th>\n",
              "      <td>0</td>\n",
              "    </tr>\n",
              "    <tr>\n",
              "      <th>slope</th>\n",
              "      <td>0</td>\n",
              "    </tr>\n",
              "    <tr>\n",
              "      <th>ca</th>\n",
              "      <td>0</td>\n",
              "    </tr>\n",
              "    <tr>\n",
              "      <th>thal</th>\n",
              "      <td>0</td>\n",
              "    </tr>\n",
              "    <tr>\n",
              "      <th>target</th>\n",
              "      <td>0</td>\n",
              "    </tr>\n",
              "  </tbody>\n",
              "</table>\n",
              "</div><br><label><b>dtype:</b> int64</label>"
            ]
          },
          "metadata": {},
          "execution_count": 2
        }
      ]
    },
    {
      "cell_type": "code",
      "source": [
        "# Required libraries\n",
        "import pandas as pd\n",
        "import numpy as np\n",
        "from sklearn.model_selection import train_test_split\n",
        "\n",
        "# 👇 Basic data preprocessing\n",
        "def process_data(df):\n",
        "    # Encode \"sex\" column: Male = 1, Female = 0\n",
        "    if 'sex' in df.columns:\n",
        "        df['sex'] = df['sex'].map({'Male': 1, 'Female': 0})\n",
        "\n",
        "    # Fill missing values with median (only for numeric columns)\n",
        "    for col in df.select_dtypes(include=[np.number]).columns:\n",
        "        df[col].fillna(df[col].median(), inplace=True)\n",
        "\n",
        "    return df"
      ],
      "metadata": {
        "id": "-7n1v3gXoOcG"
      },
      "execution_count": null,
      "outputs": []
    },
    {
      "cell_type": "code",
      "source": [
        "# 📦 Apply preprocessing\n",
        "df = process_data(df)\n",
        "\n",
        "# 🔀 Split into features (X) and target (y)\n",
        "X = df.drop('target', axis=1)\n",
        "y = df['target']\n",
        "\n",
        "# ✂️ Train-test split (80-20)\n",
        "X_train, X_test, y_train, y_test = train_test_split(\n",
        "    X, y, test_size=0.2, random_state=42\n",
        ")\n",
        "\n",
        "# ✅ Confirm shape\n",
        "print(\"Train shape:\", X_train.shape)\n",
        "print(\"Test shape:\", X_test.shape)"
      ],
      "metadata": {
        "colab": {
          "base_uri": "https://localhost:8080/"
        },
        "id": "NgpTxnFmoX7n",
        "outputId": "0cef622d-6f16-4866-ae24-08a82f61c1d3"
      },
      "execution_count": null,
      "outputs": [
        {
          "output_type": "stream",
          "name": "stdout",
          "text": [
            "Train shape: (560, 13)\n",
            "Test shape: (140, 13)\n"
          ]
        },
        {
          "output_type": "stream",
          "name": "stderr",
          "text": [
            "<ipython-input-3-5da52e781db0>:14: FutureWarning: A value is trying to be set on a copy of a DataFrame or Series through chained assignment using an inplace method.\n",
            "The behavior will change in pandas 3.0. This inplace method will never work because the intermediate object on which we are setting values always behaves as a copy.\n",
            "\n",
            "For example, when doing 'df[col].method(value, inplace=True)', try using 'df.method({col: value}, inplace=True)' or df[col] = df[col].method(value) instead, to perform the operation inplace on the original object.\n",
            "\n",
            "\n",
            "  df[col].fillna(df[col].median(), inplace=True)\n"
          ]
        }
      ]
    },
    {
      "cell_type": "markdown",
      "source": [
        "Step-by-Step: Hyperparameter Tuning + Model Training"
      ],
      "metadata": {
        "id": "QtfjQqp5owZr"
      }
    },
    {
      "cell_type": "code",
      "source": [
        "!pip install xgboost hyperopt\n"
      ],
      "metadata": {
        "colab": {
          "base_uri": "https://localhost:8080/"
        },
        "id": "AmjOf87pozN3",
        "outputId": "b9fa7e5d-0265-491d-93da-677a7a322e43"
      },
      "execution_count": null,
      "outputs": [
        {
          "output_type": "stream",
          "name": "stdout",
          "text": [
            "Requirement already satisfied: xgboost in /usr/local/lib/python3.11/dist-packages (2.1.4)\n",
            "Requirement already satisfied: hyperopt in /usr/local/lib/python3.11/dist-packages (0.2.7)\n",
            "Requirement already satisfied: numpy in /usr/local/lib/python3.11/dist-packages (from xgboost) (2.0.2)\n",
            "Requirement already satisfied: nvidia-nccl-cu12 in /usr/local/lib/python3.11/dist-packages (from xgboost) (2.21.5)\n",
            "Requirement already satisfied: scipy in /usr/local/lib/python3.11/dist-packages (from xgboost) (1.15.3)\n",
            "Requirement already satisfied: six in /usr/local/lib/python3.11/dist-packages (from hyperopt) (1.17.0)\n",
            "Requirement already satisfied: networkx>=2.2 in /usr/local/lib/python3.11/dist-packages (from hyperopt) (3.5)\n",
            "Requirement already satisfied: future in /usr/local/lib/python3.11/dist-packages (from hyperopt) (1.0.0)\n",
            "Requirement already satisfied: tqdm in /usr/local/lib/python3.11/dist-packages (from hyperopt) (4.67.1)\n",
            "Requirement already satisfied: cloudpickle in /usr/local/lib/python3.11/dist-packages (from hyperopt) (3.1.1)\n",
            "Requirement already satisfied: py4j in /usr/local/lib/python3.11/dist-packages (from hyperopt) (0.10.9.7)\n"
          ]
        }
      ]
    },
    {
      "cell_type": "code",
      "source": [
        "from hyperopt import fmin, tpe, hp, Trials\n",
        "from sklearn.metrics import roc_auc_score\n",
        "import xgboost as xgb\n",
        "\n",
        "# ⚙️ Define the objective function for hyperparameter tuning\n",
        "def objective(params):\n",
        "    # Ensure max_depth is integer\n",
        "    params['max_depth'] = int(params['max_depth'])\n",
        "\n",
        "    model = xgb.XGBClassifier(\n",
        "        n_estimators=100,\n",
        "        use_label_encoder=False,\n",
        "        eval_metric='logloss',\n",
        "        random_state=42,\n",
        "        **params\n",
        "    )\n",
        "\n",
        "    model.fit(X_train, y_train)\n",
        "    preds = model.predict_proba(X_test)[:, 1]\n",
        "    auc = roc_auc_score(y_test, preds)\n",
        "\n",
        "    return -auc  # We minimize loss\n",
        "\n"
      ],
      "metadata": {
        "id": "hL-d5IeapM-Y"
      },
      "execution_count": null,
      "outputs": []
    },
    {
      "cell_type": "code",
      "source": [
        "# 🔍 Search space for tuning\n",
        "space = {\n",
        "    'max_depth': hp.quniform('max_depth', 3, 6, 1),\n",
        "    'learning_rate': hp.loguniform('learning_rate', -5, 0),  # log scale between 0.0067 and 1\n",
        "    'subsample': hp.uniform('subsample', 0.6, 1.0),\n",
        "    'colsample_bytree': hp.uniform('colsample_bytree', 0.6, 1.0),\n",
        "    'gamma': hp.uniform('gamma', 0, 5),\n",
        "    'reg_alpha': hp.uniform('reg_alpha', 0, 10),\n",
        "    'reg_lambda': hp.uniform('reg_lambda', 1, 10),\n",
        "    'min_child_weight': hp.uniform('min_child_weight', 0, 10)\n",
        "}\n",
        "\n",
        "# 🧪 Run Hyperopt\n",
        "trials = Trials()\n",
        "best_params = fmin(\n",
        "    fn=objective,\n",
        "    space=space,\n",
        "    algo=tpe.suggest,\n",
        "    max_evals=30,\n",
        "    trials=trials\n",
        ")\n",
        "\n",
        "\n",
        "print(\"✅ Best hyperparameters:\", best_params)\n"
      ],
      "metadata": {
        "colab": {
          "base_uri": "https://localhost:8080/"
        },
        "id": "SqUdDtnzpQ_w",
        "outputId": "4b671a48-386f-4241-9dbb-a6f8d98eaba1"
      },
      "execution_count": null,
      "outputs": [
        {
          "output_type": "stream",
          "name": "stdout",
          "text": [
            "  7%|▋         | 2/30 [00:00<00:01, 16.93trial/s, best loss: -0.9563983488132094]"
          ]
        },
        {
          "output_type": "stream",
          "name": "stderr",
          "text": [
            "/usr/local/lib/python3.11/dist-packages/xgboost/core.py:158: UserWarning: [15:54:53] WARNING: /workspace/src/learner.cc:740: \n",
            "Parameters: { \"use_label_encoder\" } are not used.\n",
            "\n",
            "  warnings.warn(smsg, UserWarning)\n",
            "\n",
            "/usr/local/lib/python3.11/dist-packages/xgboost/core.py:158: UserWarning: [15:54:53] WARNING: /workspace/src/learner.cc:740: \n",
            "Parameters: { \"use_label_encoder\" } are not used.\n",
            "\n",
            "  warnings.warn(smsg, UserWarning)\n",
            "\n",
            "/usr/local/lib/python3.11/dist-packages/xgboost/core.py:158: UserWarning: [15:54:53] WARNING: /workspace/src/learner.cc:740: \n",
            "Parameters: { \"use_label_encoder\" } are not used.\n",
            "\n",
            "  warnings.warn(smsg, UserWarning)\n",
            "\n",
            "/usr/local/lib/python3.11/dist-packages/xgboost/core.py:158: UserWarning: [15:54:53] WARNING: /workspace/src/learner.cc:740: \n",
            "Parameters: { \"use_label_encoder\" } are not used.\n",
            "\n",
            "  warnings.warn(smsg, UserWarning)\n",
            "\n"
          ]
        },
        {
          "output_type": "stream",
          "name": "stdout",
          "text": [
            " 27%|██▋       | 8/30 [00:00<00:01, 20.66trial/s, best loss: -0.9563983488132094]"
          ]
        },
        {
          "output_type": "stream",
          "name": "stderr",
          "text": [
            "/usr/local/lib/python3.11/dist-packages/xgboost/core.py:158: UserWarning: [15:54:53] WARNING: /workspace/src/learner.cc:740: \n",
            "Parameters: { \"use_label_encoder\" } are not used.\n",
            "\n",
            "  warnings.warn(smsg, UserWarning)\n",
            "\n",
            "/usr/local/lib/python3.11/dist-packages/xgboost/core.py:158: UserWarning: [15:54:53] WARNING: /workspace/src/learner.cc:740: \n",
            "Parameters: { \"use_label_encoder\" } are not used.\n",
            "\n",
            "  warnings.warn(smsg, UserWarning)\n",
            "\n",
            "/usr/local/lib/python3.11/dist-packages/xgboost/core.py:158: UserWarning: [15:54:53] WARNING: /workspace/src/learner.cc:740: \n",
            "Parameters: { \"use_label_encoder\" } are not used.\n",
            "\n",
            "  warnings.warn(smsg, UserWarning)\n",
            "\n",
            "/usr/local/lib/python3.11/dist-packages/xgboost/core.py:158: UserWarning: [15:54:53] WARNING: /workspace/src/learner.cc:740: \n",
            "Parameters: { \"use_label_encoder\" } are not used.\n",
            "\n",
            "  warnings.warn(smsg, UserWarning)\n",
            "\n",
            "/usr/local/lib/python3.11/dist-packages/xgboost/core.py:158: UserWarning: [15:54:53] WARNING: /workspace/src/learner.cc:740: \n",
            "Parameters: { \"use_label_encoder\" } are not used.\n",
            "\n",
            "  warnings.warn(smsg, UserWarning)\n",
            "\n"
          ]
        },
        {
          "output_type": "stream",
          "name": "stdout",
          "text": [
            " 43%|████▎     | 13/30 [00:00<00:00, 19.91trial/s, best loss: -0.9628482972136222]"
          ]
        },
        {
          "output_type": "stream",
          "name": "stderr",
          "text": [
            "/usr/local/lib/python3.11/dist-packages/xgboost/core.py:158: UserWarning: [15:54:53] WARNING: /workspace/src/learner.cc:740: \n",
            "Parameters: { \"use_label_encoder\" } are not used.\n",
            "\n",
            "  warnings.warn(smsg, UserWarning)\n",
            "\n",
            "/usr/local/lib/python3.11/dist-packages/xgboost/core.py:158: UserWarning: [15:54:53] WARNING: /workspace/src/learner.cc:740: \n",
            "Parameters: { \"use_label_encoder\" } are not used.\n",
            "\n",
            "  warnings.warn(smsg, UserWarning)\n",
            "\n",
            "/usr/local/lib/python3.11/dist-packages/xgboost/core.py:158: UserWarning: [15:54:53] WARNING: /workspace/src/learner.cc:740: \n",
            "Parameters: { \"use_label_encoder\" } are not used.\n",
            "\n",
            "  warnings.warn(smsg, UserWarning)\n",
            "\n",
            "/usr/local/lib/python3.11/dist-packages/xgboost/core.py:158: UserWarning: [15:54:53] WARNING: /workspace/src/learner.cc:740: \n",
            "Parameters: { \"use_label_encoder\" } are not used.\n",
            "\n",
            "  warnings.warn(smsg, UserWarning)\n",
            "\n"
          ]
        },
        {
          "output_type": "stream",
          "name": "stdout",
          "text": [
            " 57%|█████▋    | 17/30 [00:00<00:00, 19.09trial/s, best loss: -0.976780185758514] "
          ]
        },
        {
          "output_type": "stream",
          "name": "stderr",
          "text": [
            "/usr/local/lib/python3.11/dist-packages/xgboost/core.py:158: UserWarning: [15:54:53] WARNING: /workspace/src/learner.cc:740: \n",
            "Parameters: { \"use_label_encoder\" } are not used.\n",
            "\n",
            "  warnings.warn(smsg, UserWarning)\n",
            "\n",
            "/usr/local/lib/python3.11/dist-packages/xgboost/core.py:158: UserWarning: [15:54:53] WARNING: /workspace/src/learner.cc:740: \n",
            "Parameters: { \"use_label_encoder\" } are not used.\n",
            "\n",
            "  warnings.warn(smsg, UserWarning)\n",
            "\n",
            "/usr/local/lib/python3.11/dist-packages/xgboost/core.py:158: UserWarning: [15:54:53] WARNING: /workspace/src/learner.cc:740: \n",
            "Parameters: { \"use_label_encoder\" } are not used.\n",
            "\n",
            "  warnings.warn(smsg, UserWarning)\n",
            "\n",
            "/usr/local/lib/python3.11/dist-packages/xgboost/core.py:158: UserWarning: [15:54:53] WARNING: /workspace/src/learner.cc:740: \n",
            "Parameters: { \"use_label_encoder\" } are not used.\n",
            "\n",
            "  warnings.warn(smsg, UserWarning)\n",
            "\n"
          ]
        },
        {
          "output_type": "stream",
          "name": "stdout",
          "text": [
            " 70%|███████   | 21/30 [00:01<00:00, 18.66trial/s, best loss: -0.976780185758514]"
          ]
        },
        {
          "output_type": "stream",
          "name": "stderr",
          "text": [
            "/usr/local/lib/python3.11/dist-packages/xgboost/core.py:158: UserWarning: [15:54:53] WARNING: /workspace/src/learner.cc:740: \n",
            "Parameters: { \"use_label_encoder\" } are not used.\n",
            "\n",
            "  warnings.warn(smsg, UserWarning)\n",
            "\n",
            "/usr/local/lib/python3.11/dist-packages/xgboost/core.py:158: UserWarning: [15:54:54] WARNING: /workspace/src/learner.cc:740: \n",
            "Parameters: { \"use_label_encoder\" } are not used.\n",
            "\n",
            "  warnings.warn(smsg, UserWarning)\n",
            "\n",
            "/usr/local/lib/python3.11/dist-packages/xgboost/core.py:158: UserWarning: [15:54:54] WARNING: /workspace/src/learner.cc:740: \n",
            "Parameters: { \"use_label_encoder\" } are not used.\n",
            "\n",
            "  warnings.warn(smsg, UserWarning)\n",
            "\n",
            "/usr/local/lib/python3.11/dist-packages/xgboost/core.py:158: UserWarning: [15:54:54] WARNING: /workspace/src/learner.cc:740: \n",
            "Parameters: { \"use_label_encoder\" } are not used.\n",
            "\n",
            "  warnings.warn(smsg, UserWarning)\n",
            "\n"
          ]
        },
        {
          "output_type": "stream",
          "name": "stdout",
          "text": [
            "\r 77%|███████▋  | 23/30 [00:01<00:00, 15.44trial/s, best loss: -0.976780185758514]"
          ]
        },
        {
          "output_type": "stream",
          "name": "stderr",
          "text": [
            "/usr/local/lib/python3.11/dist-packages/xgboost/core.py:158: UserWarning: [15:54:54] WARNING: /workspace/src/learner.cc:740: \n",
            "Parameters: { \"use_label_encoder\" } are not used.\n",
            "\n",
            "  warnings.warn(smsg, UserWarning)\n",
            "\n",
            "/usr/local/lib/python3.11/dist-packages/xgboost/core.py:158: UserWarning: [15:54:54] WARNING: /workspace/src/learner.cc:740: \n",
            "Parameters: { \"use_label_encoder\" } are not used.\n",
            "\n",
            "  warnings.warn(smsg, UserWarning)\n",
            "\n",
            "/usr/local/lib/python3.11/dist-packages/xgboost/core.py:158: UserWarning: [15:54:54] WARNING: /workspace/src/learner.cc:740: \n",
            "Parameters: { \"use_label_encoder\" } are not used.\n",
            "\n",
            "  warnings.warn(smsg, UserWarning)\n",
            "\n",
            "/usr/local/lib/python3.11/dist-packages/xgboost/core.py:158: UserWarning: [15:54:54] WARNING: /workspace/src/learner.cc:740: \n",
            "Parameters: { \"use_label_encoder\" } are not used.\n",
            "\n",
            "  warnings.warn(smsg, UserWarning)\n",
            "\n"
          ]
        },
        {
          "output_type": "stream",
          "name": "stdout",
          "text": [
            "\r 83%|████████▎ | 25/30 [00:02<00:01,  4.14trial/s, best loss: -0.976780185758514]"
          ]
        },
        {
          "output_type": "stream",
          "name": "stderr",
          "text": [
            "/usr/local/lib/python3.11/dist-packages/xgboost/core.py:158: UserWarning: [15:54:55] WARNING: /workspace/src/learner.cc:740: \n",
            "Parameters: { \"use_label_encoder\" } are not used.\n",
            "\n",
            "  warnings.warn(smsg, UserWarning)\n",
            "\n"
          ]
        },
        {
          "output_type": "stream",
          "name": "stdout",
          "text": [
            "\r 90%|█████████ | 27/30 [00:03<00:00,  3.96trial/s, best loss: -0.976780185758514]"
          ]
        },
        {
          "output_type": "stream",
          "name": "stderr",
          "text": [
            "/usr/local/lib/python3.11/dist-packages/xgboost/core.py:158: UserWarning: [15:54:56] WARNING: /workspace/src/learner.cc:740: \n",
            "Parameters: { \"use_label_encoder\" } are not used.\n",
            "\n",
            "  warnings.warn(smsg, UserWarning)\n",
            "\n",
            "/usr/local/lib/python3.11/dist-packages/xgboost/core.py:158: UserWarning: [15:54:56] WARNING: /workspace/src/learner.cc:740: \n",
            "Parameters: { \"use_label_encoder\" } are not used.\n",
            "\n",
            "  warnings.warn(smsg, UserWarning)\n",
            "\n"
          ]
        },
        {
          "output_type": "stream",
          "name": "stdout",
          "text": [
            "100%|██████████| 30/30 [00:03<00:00,  8.58trial/s, best loss: -0.976780185758514]\n",
            "✅ Best hyperparameters: {'colsample_bytree': np.float64(0.991531201882204), 'gamma': np.float64(0.7215360131966442), 'learning_rate': np.float64(0.14618658715562108), 'max_depth': np.float64(5.0), 'min_child_weight': np.float64(0.37371676033970513), 'reg_alpha': np.float64(0.6026967668539629), 'reg_lambda': np.float64(4.601918314826419), 'subsample': np.float64(0.9028117937565624)}\n"
          ]
        },
        {
          "output_type": "stream",
          "name": "stderr",
          "text": [
            "/usr/local/lib/python3.11/dist-packages/xgboost/core.py:158: UserWarning: [15:54:56] WARNING: /workspace/src/learner.cc:740: \n",
            "Parameters: { \"use_label_encoder\" } are not used.\n",
            "\n",
            "  warnings.warn(smsg, UserWarning)\n",
            "\n",
            "/usr/local/lib/python3.11/dist-packages/xgboost/core.py:158: UserWarning: [15:54:56] WARNING: /workspace/src/learner.cc:740: \n",
            "Parameters: { \"use_label_encoder\" } are not used.\n",
            "\n",
            "  warnings.warn(smsg, UserWarning)\n",
            "\n"
          ]
        }
      ]
    },
    {
      "cell_type": "code",
      "source": [
        "!pip install --upgrade xgboost\n"
      ],
      "metadata": {
        "colab": {
          "base_uri": "https://localhost:8080/"
        },
        "id": "IB6W9M9jqCoB",
        "outputId": "fa2c495f-5ea2-4703-c6d5-87469b23da0e"
      },
      "execution_count": null,
      "outputs": [
        {
          "output_type": "stream",
          "name": "stdout",
          "text": [
            "Requirement already satisfied: xgboost in /usr/local/lib/python3.11/dist-packages (2.1.4)\n",
            "Collecting xgboost\n",
            "  Downloading xgboost-3.0.2-py3-none-manylinux_2_28_x86_64.whl.metadata (2.1 kB)\n",
            "Requirement already satisfied: numpy in /usr/local/lib/python3.11/dist-packages (from xgboost) (2.0.2)\n",
            "Requirement already satisfied: nvidia-nccl-cu12 in /usr/local/lib/python3.11/dist-packages (from xgboost) (2.21.5)\n",
            "Requirement already satisfied: scipy in /usr/local/lib/python3.11/dist-packages (from xgboost) (1.15.3)\n",
            "Downloading xgboost-3.0.2-py3-none-manylinux_2_28_x86_64.whl (253.9 MB)\n",
            "\u001b[2K   \u001b[90m━━━━━━━━━━━━━━━━━━━━━━━━━━━━━━━━━━━━━━━━\u001b[0m \u001b[32m253.9/253.9 MB\u001b[0m \u001b[31m3.7 MB/s\u001b[0m eta \u001b[36m0:00:00\u001b[0m\n",
            "\u001b[?25hInstalling collected packages: xgboost\n",
            "  Attempting uninstall: xgboost\n",
            "    Found existing installation: xgboost 2.1.4\n",
            "    Uninstalling xgboost-2.1.4:\n",
            "      Successfully uninstalled xgboost-2.1.4\n",
            "Successfully installed xgboost-3.0.2\n"
          ]
        }
      ]
    },
    {
      "cell_type": "code",
      "source": [
        "# 🧠 Handle class imbalance\n",
        "scale_pos_weight = sum(y_train == 0) / sum(y_train == 1)\n",
        "\n",
        "# 🛠️ Fix Hyperopt parameter types\n",
        "best_params['max_depth'] = int(best_params['max_depth'])\n",
        "\n",
        "# 🧪 Convert data into DMatrix (XGBoost's internal format)\n",
        "dtrain = xgb.DMatrix(X_train, label=y_train)\n",
        "dtest = xgb.DMatrix(X_test, label=y_test)\n",
        "\n",
        "# 🧰 Create full params dictionary\n",
        "xgb_params = {\n",
        "    \"objective\": \"binary:logistic\",\n",
        "    \"eval_metric\": \"logloss\",\n",
        "    \"use_label_encoder\": False,\n",
        "    \"random_state\": 42,\n",
        "    \"scale_pos_weight\": scale_pos_weight,\n",
        "    **best_params\n",
        "}\n",
        "\n",
        "# 🏋️ Train with early stopping using low-level API\n",
        "final_model = xgb.train(\n",
        "    params=xgb_params,\n",
        "    dtrain=dtrain,\n",
        "    num_boost_round=500,\n",
        "    evals=[(dtest, \"validation\")],\n",
        "    early_stopping_rounds=20,\n",
        "    verbose_eval=True\n",
        ")\n"
      ],
      "metadata": {
        "colab": {
          "base_uri": "https://localhost:8080/"
        },
        "id": "0IkqHVxOpYYj",
        "outputId": "52fe0399-9b17-43ed-c344-7d84949885a9"
      },
      "execution_count": null,
      "outputs": [
        {
          "output_type": "stream",
          "name": "stdout",
          "text": [
            "[0]\tvalidation-logloss:0.61754\n",
            "[1]\tvalidation-logloss:0.56352\n",
            "[2]\tvalidation-logloss:0.51430\n",
            "[3]\tvalidation-logloss:0.46919\n",
            "[4]\tvalidation-logloss:0.43384\n",
            "[5]\tvalidation-logloss:0.40270\n",
            "[6]\tvalidation-logloss:0.37792\n",
            "[7]\tvalidation-logloss:0.35877\n",
            "[8]\tvalidation-logloss:0.33819\n",
            "[9]\tvalidation-logloss:0.31945\n",
            "[10]\tvalidation-logloss:0.30268\n",
            "[11]\tvalidation-logloss:0.28908\n",
            "[12]\tvalidation-logloss:0.27726\n",
            "[13]\tvalidation-logloss:0.26564\n",
            "[14]\tvalidation-logloss:0.25765\n",
            "[15]\tvalidation-logloss:0.25208\n",
            "[16]\tvalidation-logloss:0.24445\n",
            "[17]\tvalidation-logloss:0.23959\n",
            "[18]\tvalidation-logloss:0.23242\n",
            "[19]\tvalidation-logloss:0.22409\n",
            "[20]\tvalidation-logloss:0.21799\n",
            "[21]\tvalidation-logloss:0.21188\n",
            "[22]\tvalidation-logloss:0.20671\n",
            "[23]\tvalidation-logloss:0.20087\n",
            "[24]\tvalidation-logloss:0.19778\n",
            "[25]\tvalidation-logloss:0.19368\n",
            "[26]\tvalidation-logloss:0.19021\n",
            "[27]\tvalidation-logloss:0.18947\n",
            "[28]\tvalidation-logloss:0.18661\n",
            "[29]\tvalidation-logloss:0.18504\n",
            "[30]\tvalidation-logloss:0.18257\n",
            "[31]\tvalidation-logloss:0.18030\n",
            "[32]\tvalidation-logloss:0.17895\n",
            "[33]\tvalidation-logloss:0.17657\n",
            "[34]\tvalidation-logloss:0.17397\n",
            "[35]\tvalidation-logloss:0.17108\n",
            "[36]\tvalidation-logloss:0.16825\n",
            "[37]\tvalidation-logloss:0.16702\n",
            "[38]\tvalidation-logloss:0.16584\n",
            "[39]\tvalidation-logloss:0.16476\n",
            "[40]\tvalidation-logloss:0.16322\n",
            "[41]\tvalidation-logloss:0.16224\n",
            "[42]\tvalidation-logloss:0.16102\n",
            "[43]\tvalidation-logloss:0.16058\n",
            "[44]\tvalidation-logloss:0.16056\n",
            "[45]\tvalidation-logloss:0.15963\n",
            "[46]\tvalidation-logloss:0.15890\n",
            "[47]\tvalidation-logloss:0.15898\n",
            "[48]\tvalidation-logloss:0.15810\n",
            "[49]\tvalidation-logloss:0.15825\n",
            "[50]\tvalidation-logloss:0.15826\n",
            "[51]\tvalidation-logloss:0.15746\n",
            "[52]\tvalidation-logloss:0.15694\n",
            "[53]\tvalidation-logloss:0.15622\n",
            "[54]\tvalidation-logloss:0.15576\n",
            "[55]\tvalidation-logloss:0.15576\n",
            "[56]\tvalidation-logloss:0.15576\n",
            "[57]\tvalidation-logloss:0.15579\n",
            "[58]\tvalidation-logloss:0.15573\n",
            "[59]\tvalidation-logloss:0.15535\n",
            "[60]\tvalidation-logloss:0.15535\n",
            "[61]\tvalidation-logloss:0.15535\n",
            "[62]\tvalidation-logloss:0.15509\n",
            "[63]\tvalidation-logloss:0.15452\n",
            "[64]\tvalidation-logloss:0.15452\n",
            "[65]\tvalidation-logloss:0.15452\n",
            "[66]\tvalidation-logloss:0.15450\n",
            "[67]\tvalidation-logloss:0.15361\n",
            "[68]\tvalidation-logloss:0.15361\n",
            "[69]\tvalidation-logloss:0.15363\n",
            "[70]\tvalidation-logloss:0.15363\n",
            "[71]\tvalidation-logloss:0.15360\n",
            "[72]\tvalidation-logloss:0.15359\n",
            "[73]\tvalidation-logloss:0.15367\n",
            "[74]\tvalidation-logloss:0.15309\n",
            "[75]\tvalidation-logloss:0.15309\n",
            "[76]\tvalidation-logloss:0.15310\n",
            "[77]\tvalidation-logloss:0.15310\n",
            "[78]\tvalidation-logloss:0.15310\n",
            "[79]\tvalidation-logloss:0.15310\n"
          ]
        },
        {
          "output_type": "stream",
          "name": "stderr",
          "text": [
            "/usr/local/lib/python3.11/dist-packages/xgboost/core.py:158: UserWarning: [16:00:03] WARNING: /workspace/src/learner.cc:740: \n",
            "Parameters: { \"use_label_encoder\" } are not used.\n",
            "\n",
            "  msg += \" or \"\n"
          ]
        },
        {
          "output_type": "stream",
          "name": "stdout",
          "text": [
            "[80]\tvalidation-logloss:0.15312\n",
            "[81]\tvalidation-logloss:0.15314\n",
            "[82]\tvalidation-logloss:0.15314\n",
            "[83]\tvalidation-logloss:0.15314\n",
            "[84]\tvalidation-logloss:0.15313\n",
            "[85]\tvalidation-logloss:0.15310\n",
            "[86]\tvalidation-logloss:0.15304\n",
            "[87]\tvalidation-logloss:0.15306\n",
            "[88]\tvalidation-logloss:0.15306\n",
            "[89]\tvalidation-logloss:0.15306\n",
            "[90]\tvalidation-logloss:0.15306\n",
            "[91]\tvalidation-logloss:0.15208\n",
            "[92]\tvalidation-logloss:0.15212\n",
            "[93]\tvalidation-logloss:0.15213\n",
            "[94]\tvalidation-logloss:0.15209\n",
            "[95]\tvalidation-logloss:0.15209\n",
            "[96]\tvalidation-logloss:0.15209\n",
            "[97]\tvalidation-logloss:0.15212\n",
            "[98]\tvalidation-logloss:0.15212\n",
            "[99]\tvalidation-logloss:0.15212\n",
            "[100]\tvalidation-logloss:0.15214\n",
            "[101]\tvalidation-logloss:0.15215\n",
            "[102]\tvalidation-logloss:0.15215\n",
            "[103]\tvalidation-logloss:0.15216\n",
            "[104]\tvalidation-logloss:0.15219\n",
            "[105]\tvalidation-logloss:0.15219\n",
            "[106]\tvalidation-logloss:0.15226\n",
            "[107]\tvalidation-logloss:0.15223\n",
            "[108]\tvalidation-logloss:0.15223\n",
            "[109]\tvalidation-logloss:0.15219\n",
            "[110]\tvalidation-logloss:0.15178\n",
            "[111]\tvalidation-logloss:0.15178\n",
            "[112]\tvalidation-logloss:0.15177\n",
            "[113]\tvalidation-logloss:0.15179\n",
            "[114]\tvalidation-logloss:0.15179\n",
            "[115]\tvalidation-logloss:0.15184\n",
            "[116]\tvalidation-logloss:0.15184\n",
            "[117]\tvalidation-logloss:0.15184\n",
            "[118]\tvalidation-logloss:0.15157\n",
            "[119]\tvalidation-logloss:0.15160\n",
            "[120]\tvalidation-logloss:0.15163\n",
            "[121]\tvalidation-logloss:0.15163\n",
            "[122]\tvalidation-logloss:0.15163\n",
            "[123]\tvalidation-logloss:0.15163\n",
            "[124]\tvalidation-logloss:0.15163\n",
            "[125]\tvalidation-logloss:0.15165\n",
            "[126]\tvalidation-logloss:0.15169\n",
            "[127]\tvalidation-logloss:0.15170\n",
            "[128]\tvalidation-logloss:0.15167\n",
            "[129]\tvalidation-logloss:0.15167\n",
            "[130]\tvalidation-logloss:0.15137\n",
            "[131]\tvalidation-logloss:0.15135\n",
            "[132]\tvalidation-logloss:0.15135\n",
            "[133]\tvalidation-logloss:0.15135\n",
            "[134]\tvalidation-logloss:0.15137\n",
            "[135]\tvalidation-logloss:0.15137\n",
            "[136]\tvalidation-logloss:0.15139\n",
            "[137]\tvalidation-logloss:0.15137\n",
            "[138]\tvalidation-logloss:0.15137\n",
            "[139]\tvalidation-logloss:0.15137\n",
            "[140]\tvalidation-logloss:0.15137\n",
            "[141]\tvalidation-logloss:0.15138\n",
            "[142]\tvalidation-logloss:0.15139\n",
            "[143]\tvalidation-logloss:0.15149\n",
            "[144]\tvalidation-logloss:0.15150\n",
            "[145]\tvalidation-logloss:0.15150\n",
            "[146]\tvalidation-logloss:0.15150\n",
            "[147]\tvalidation-logloss:0.15150\n",
            "[148]\tvalidation-logloss:0.15150\n",
            "[149]\tvalidation-logloss:0.15131\n",
            "[150]\tvalidation-logloss:0.15131\n",
            "[151]\tvalidation-logloss:0.15131\n",
            "[152]\tvalidation-logloss:0.15124\n",
            "[153]\tvalidation-logloss:0.15127\n",
            "[154]\tvalidation-logloss:0.15125\n",
            "[155]\tvalidation-logloss:0.15123\n",
            "[156]\tvalidation-logloss:0.15122\n",
            "[157]\tvalidation-logloss:0.15115\n",
            "[158]\tvalidation-logloss:0.15095\n",
            "[159]\tvalidation-logloss:0.15098\n",
            "[160]\tvalidation-logloss:0.15100\n",
            "[161]\tvalidation-logloss:0.15100\n",
            "[162]\tvalidation-logloss:0.15101\n",
            "[163]\tvalidation-logloss:0.15101\n",
            "[164]\tvalidation-logloss:0.15101\n",
            "[165]\tvalidation-logloss:0.15101\n",
            "[166]\tvalidation-logloss:0.15101\n",
            "[167]\tvalidation-logloss:0.15080\n",
            "[168]\tvalidation-logloss:0.15081\n",
            "[169]\tvalidation-logloss:0.15081\n",
            "[170]\tvalidation-logloss:0.15078\n",
            "[171]\tvalidation-logloss:0.15077\n",
            "[172]\tvalidation-logloss:0.15079\n",
            "[173]\tvalidation-logloss:0.15079\n",
            "[174]\tvalidation-logloss:0.15079\n",
            "[175]\tvalidation-logloss:0.15079\n",
            "[176]\tvalidation-logloss:0.15079\n",
            "[177]\tvalidation-logloss:0.14996\n",
            "[178]\tvalidation-logloss:0.14996\n",
            "[179]\tvalidation-logloss:0.15001\n",
            "[180]\tvalidation-logloss:0.15001\n",
            "[181]\tvalidation-logloss:0.15003\n",
            "[182]\tvalidation-logloss:0.15005\n",
            "[183]\tvalidation-logloss:0.15004\n",
            "[184]\tvalidation-logloss:0.15004\n",
            "[185]\tvalidation-logloss:0.15005\n",
            "[186]\tvalidation-logloss:0.15005\n",
            "[187]\tvalidation-logloss:0.15005\n",
            "[188]\tvalidation-logloss:0.15003\n",
            "[189]\tvalidation-logloss:0.15003\n",
            "[190]\tvalidation-logloss:0.15004\n",
            "[191]\tvalidation-logloss:0.15005\n",
            "[192]\tvalidation-logloss:0.15005\n",
            "[193]\tvalidation-logloss:0.15005\n",
            "[194]\tvalidation-logloss:0.15003\n",
            "[195]\tvalidation-logloss:0.15003\n",
            "[196]\tvalidation-logloss:0.15003\n",
            "[197]\tvalidation-logloss:0.15009\n"
          ]
        }
      ]
    },
    {
      "cell_type": "code",
      "source": [
        "import matplotlib.pyplot as plt\n",
        "from sklearn.metrics import (\n",
        "    roc_auc_score, accuracy_score,\n",
        "    precision_score, recall_score,\n",
        "    f1_score, confusion_matrix, ConfusionMatrixDisplay\n",
        ")\n",
        "\n",
        "# Prepare test data DMatrix\n",
        "dtest = xgb.DMatrix(X_test)\n",
        "\n",
        "# Predict probabilities and classes\n",
        "y_proba = final_model.predict(dtest)  # probabilities\n",
        "y_pred = (y_proba >= 0.5).astype(int)  # binary predictions with 0.5 threshold\n",
        "\n",
        "# Print metrics\n",
        "print(\"=== Model Evaluation Metrics ===\")\n",
        "print(f\"AUC-ROC: {roc_auc_score(y_test, y_proba):.4f}\")\n",
        "print(f\"Accuracy: {accuracy_score(y_test, y_pred):.4f}\")\n",
        "print(f\"Precision: {precision_score(y_test, y_pred):.4f}\")\n",
        "print(f\"Recall: {recall_score(y_test, y_pred):.4f}\")\n",
        "print(f\"F1 Score: {f1_score(y_test, y_pred):.4f}\")\n",
        "\n",
        "# Confusion Matrix\n",
        "cm = confusion_matrix(y_test, y_pred)\n",
        "disp = ConfusionMatrixDisplay(confusion_matrix=cm, display_labels=[0,1])\n",
        "disp.plot(cmap=plt.cm.Blues)\n",
        "plt.title(\"Confusion Matrix\")\n",
        "plt.show()\n"
      ],
      "metadata": {
        "colab": {
          "base_uri": "https://localhost:8080/",
          "height": 576
        },
        "id": "Pn8OBDWGrAsr",
        "outputId": "952dec45-b4d2-4ae5-e698-a62ced1eb731"
      },
      "execution_count": null,
      "outputs": [
        {
          "output_type": "stream",
          "name": "stdout",
          "text": [
            "=== Model Evaluation Metrics ===\n",
            "AUC-ROC: 0.9843\n",
            "Accuracy: 0.9571\n",
            "Precision: 0.9706\n",
            "Recall: 0.8684\n",
            "F1 Score: 0.9167\n"
          ]
        },
        {
          "output_type": "display_data",
          "data": {
            "text/plain": [
              "<Figure size 640x480 with 2 Axes>"
            ],
            "image/png": "[encoded data removed]"
          },
          "metadata": {}
        }
      ]
    },
    {
      "cell_type": "code",
      "source": [
        "Yo, those numbers look solid! 🔥\n",
        "\n",
        "AUC 0.98+ means your model is excellent at ranking positives vs negatives.\n",
        "\n",
        "Accuracy ~96% means it’s right most of the time.\n",
        "\n",
        "Precision 97% shows when it predicts positive, it’s usually correct — great for avoiding false alarms.\n",
        "\n",
        "Recall 87% means it catches most of the actual positives (pretty important for medical data).\n",
        "\n",
        "F1 ~0.92 balances precision & recall nicely."
      ],
      "metadata": {
        "id": "-N5XhR4Mrddx"
      },
      "execution_count": null,
      "outputs": []
    }
  ]
}